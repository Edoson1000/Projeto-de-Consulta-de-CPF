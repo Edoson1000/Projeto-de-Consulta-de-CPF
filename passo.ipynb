{
 "cells": [
  {
   "cell_type": "code",
   "execution_count": null,
   "metadata": {},
   "outputs": [],
   "source": [
    "\n",
    "from selenium import webdriver\n",
    "from webdriver_manager.chrome import ChromeDriverManager\n",
    "from selenium.webdriver.chrome.service import Service\n",
    "from selenium.webdriver.common.by import By\n",
    "from time import sleep\n",
    "servico = Service(ChromeDriverManager().install())\n",
    "\n",
    "navegador = webdriver.Chrome(service=servico)\n",
    "navegador.get('https://consultcpf-devaprender.netlify.app/')\n",
    "sleep(0.5)\n",
    "\n",
    "\n",
    "import openpyxl\n",
    "\n",
    "\n",
    "\n",
    "planilha_clientes = openpyxl.load_workbook('dados_clientes.xlsx')\n",
    "pagina_clientes = planilha_clientes['Sheet1']\n",
    "\n",
    "for linha in pagina_clientes.iter_rows(min_row=2, values_only=True):\n",
    "    nome, valor, cpf, vencimento = linha\n",
    "\n",
    "\n",
    "    navegador.find_element(By.XPATH,'//*[@id=\"cpfInput\"]').send_keys(cpf)\n",
    "    sleep(1)\n",
    "    botao = navegador.find_element(By.XPATH,'//*[@id=\"consultaForm\"]/button').click()\n",
    "    sleep(4)\n",
    "    status = navegador.find_element(By.XPATH,'//*[@id=\"statusLabel\"]')\n",
    "    sleep(1)\n",
    "\n",
    "\n",
    "    if status.text == 'em dia':\n",
    "        data_pagamento = navegador.find_element(By.XPATH,'//*[@id=\"paymentDate\"]')\n",
    "        metodo = navegador.find_element(By.XPATH,'//*[@id=\"paymentMethod\"]')\n",
    "        data_pagamentolimpo = data_pagamento.text.split()[3]\n",
    "        metodo_limpo = data_pagamento.text.split()[3]\n",
    "\n",
    "        planilha_final = openpyxl.load_workbook('planilha fechamento.xlsx')\n",
    "        pagina = planilha_final['Sheet1']\n",
    "        pagina.append([nome, valor, cpf, vencimento, 'em dia', data_pagamentolimpo, metodo_limpo])\n",
    "        planilha_final.save('planilha fechamento.xlsx')\n",
    "        \n",
    "    else:\n",
    "        planilha_final = openpyxl.load_workbook('planilha fechamento.xlsx')\n",
    "        pagina = planilha_final['Sheet1']\n",
    "        pagina.append([nome, valor, cpf, vencimento, 'Pendente'])\n",
    "        planilha_final.save('planilha fechamento.xlsx')\n",
    "    navegador.find_element(By.XPATH,'//*[@id=\"cpfInput\"]').clear()\n",
    "    \n",
    "\n",
    "    \n"
   ]
  }
 ],
 "metadata": {
  "kernelspec": {
   "display_name": "Python 3",
   "language": "python",
   "name": "python3"
  },
  "language_info": {
   "codemirror_mode": {
    "name": "ipython",
    "version": 3
   },
   "file_extension": ".py",
   "mimetype": "text/x-python",
   "name": "python",
   "nbconvert_exporter": "python",
   "pygments_lexer": "ipython3",
   "version": "3.12.7"
  }
 },
 "nbformat": 4,
 "nbformat_minor": 2
}
